{
 "cells": [
  {
   "cell_type": "markdown",
   "id": "9942a23c",
   "metadata": {},
   "source": [
    "# PPO"
   ]
  },
  {
   "cell_type": "code",
   "execution_count": 14,
   "id": "f5537c5c",
   "metadata": {},
   "outputs": [],
   "source": [
    "import numpy as np\n",
    "import torch\n",
    "import torch.nn as nn\n",
    "import torch.optim as optim\n",
    "import numpy as np\n",
    "from torch.distributions import Categorical\n",
    "import gymnasium\n",
    "import matplotlib.pyplot as plt"
   ]
  },
  {
   "cell_type": "markdown",
   "id": "8de99e7f",
   "metadata": {},
   "source": [
    "目标函数中的baseline部分是"
   ]
  },
  {
   "cell_type": "markdown",
   "id": "40ca0b20",
   "metadata": {},
   "source": [
    "$$\n",
    "\\begin{align}\n",
    "\\max_{\\theta} \\hat{\\mathbb{E}}_{t} \\left[ \\frac{\\pi_{\\theta}(a_{t} | s_{t})}{\\pi_{\\theta_{\\text{old}}}(a_{t} | s_{t})} A_{t} \\right]\n",
    "\\end{align}\n",
    "$$\n",
    "\n",
    "其中 \n",
    "- $A_t = Q(a_t, s_t) - V(s_t)$, 即在状态 $s_t$ 时采取动作 $a_t$ 的价值与平均价值 $V(s_t)$ 相比的增量（可为负） \n",
    "- $\\frac{\\pi_{\\theta}(a_{t} | s_{t})}{\\pi_{\\theta_{\\text{old}}}(a_{t} | s_{t})}$ 是 $\\pi_{\\theta}(a_t|s_t)$ 与原 policy 下动作 $a_t$ 的概率相比的倍数"
   ]
  },
  {
   "cell_type": "markdown",
   "id": "5311779b",
   "metadata": {},
   "source": [
    "同时为了限制每次更新的步子不要迈的太大，有三种方式：\n",
    "\n",
    "#### 第一种：TRM\n",
    "\n",
    "其实就是用KL散度搞一个惩罚项，限制新的 $\\pi_\\theta$ 和旧的policy 不能差距太大。\n",
    "\n",
    "#### 第二种: CSO\n",
    "\n",
    "直接对更新率的范围做限制，超过限制了就截断：\n",
    "\n",
    "$$\n",
    "\\begin{align}\n",
    "\\mathcal{L}^{CLIP}(\\theta)= \\hat{\\mathbb{E}}_{t}  \\left[ \\min\\left( r_i(\\theta) \\hat{A_t}, \\text{clip}\\big( r_t(\\theta), 1 - \\epsilon, 1 + \\epsilon \\big) \\right) \\right]\n",
    "\\end{align}\n",
    "$$\n",
    "\n",
    "需要注意的是， 这个clip 函数是需要根据 $A_t$ 的正负性来做出不同的动作的， 如果$A_t$ 为正， 则只在上界 $1+\\epsilon$ 处做截断，反之则在 $1-\\epsilon$ 处做截断，毕竟这个函数的目的是防止更新的步子迈太大，而A为正的时候max算法会想尽办法增大$r_t$， 所以要对上限做限制，A_t为负的时候max算法会想尽办法让这个减少量尽可能小，所以会尽可能减少$r_t$，所以限制系数下限\n",
    "\n",
    "#### 第三种：Adaptive KL Penalty Coefficient\n",
    "\n",
    "就是TRM的会自动调整 KL项系数的版本，当算法表现偏离目标散度值太多的时候就紧紧缰绳：\n",
    "\n",
    "- 如果更新过程中发现散度小于 $\\frac{目标散度值}{1.5}$， 说明KL散度项对优化的权重有点高了，则调整KL项系数为之前的一半\n",
    "- 如果更新过程中发现散度大于 $目标散度值 \\times 1.5$， 说明KL散度限制得还不够，则调整KL项系数为之前的两倍\n",
    "\n"
   ]
  },
  {
   "cell_type": "markdown",
   "id": "294c2775",
   "metadata": {},
   "source": [
    "## 算法"
   ]
  },
  {
   "cell_type": "markdown",
   "id": "5fb3414a",
   "metadata": {},
   "source": [
    "首先是计算 $A_t$ 的方法，论文里使用的是\n",
    "\n",
    "$$\n",
    "\\begin{align}\n",
    "\\hat{A}_t = \\delta_t + (\\gamma \\lambda) \\delta_{t+1} + \\cdots + (\\gamma \\lambda)^{T-t-1} \\delta_{T-1}\n",
    "\\end{align}\n",
    "$$\n",
    "\n",
    "其中\n",
    "\n",
    "$$\n",
    "\\begin{align}\n",
    "\\delta_t = r_t + \\gamma V(s_{t+1}) - V(s_t)\n",
    "\\end{align}\n",
    "$$\n",
    "\n"
   ]
  },
  {
   "cell_type": "markdown",
   "id": "21de8fcd",
   "metadata": {},
   "source": [
    "其次是损失函数，因为训练过程还用到了神经网络（论文里用的是Actor-Critic）而且和policy的参数共用，所以损失函数还得涵盖神经网络的损失函数，则最终有：\n",
    "\n",
    "$$\n",
    "\\begin{align}\n",
    "\\mathcal{L}(\\theta) = \\hat{\\mathbb{E}_t}\\left[L_t^{CLIP}(\\theta) - c_1\\mathcal{L_t}^{VF}(\\theta) + c_2S(\\pi_{\\theta})(s_t) \\right]\n",
    "\\end{align}\n",
    "$$\n"
   ]
  },
  {
   "cell_type": "markdown",
   "id": "bbc0ae71",
   "metadata": {},
   "source": [
    "算法伪代码如下：\n",
    "\n"
   ]
  },
  {
   "cell_type": "code",
   "execution_count": 19,
   "id": "05720cfc",
   "metadata": {},
   "outputs": [
    {
     "data": {
      "text/plain": [
       "'\\nfor epochs in range(epochs):\\n    for actor in N:\\n        先用旧的policy采样一批数据\\n        计算A_t\\n    用这些数据使用损失函数更新policy，我们下面程序里优化方法用的是 mini-batch SGD\\n    更新policy参数\\n'"
      ]
     },
     "execution_count": 19,
     "metadata": {},
     "output_type": "execute_result"
    }
   ],
   "source": [
    "'''\n",
    "for epochs in range(epochs):\n",
    "    for actor in N:\n",
    "        先用旧的policy采样一批数据\n",
    "        计算A_t\n",
    "    用这些数据使用损失函数更新policy，我们下面程序里优化方法用的是 mini-batch SGD\n",
    "    更新policy参数\n",
    "'''"
   ]
  },
  {
   "cell_type": "markdown",
   "id": "4c3ee651",
   "metadata": {},
   "source": [
    "## 先造一个 actor-critic model"
   ]
  },
  {
   "cell_type": "code",
   "execution_count": 4,
   "id": "d69ce3b2",
   "metadata": {},
   "outputs": [
    {
     "name": "stdout",
     "output_type": "stream",
     "text": [
      "cuda.is_available: True\n",
      "device: cuda:0\n",
      "device_name: NVIDIA GeForce RTX 4090 D\n",
      "version.cuda: 12.8\n",
      "torch.version: 2.8.0+cu128\n",
      "cudnn.version: 91002\n",
      "cudnn.enabled: True\n"
     ]
    }
   ],
   "source": [
    "# 检查 cuda \n",
    "device = torch.device(\"cuda:0\" if torch.cuda.is_available() else \"cpu\")\n",
    "# device = torch.device('cpu')\n",
    "\n",
    "\n",
    "print(f'cuda.is_available: {torch.cuda.is_available()}')\n",
    "print(f'device: {device}')\n",
    "if torch.cuda.is_available():\n",
    "    print(f'device_name: {torch.cuda.get_device_name(0)}')\n",
    "\n",
    "print(f'version.cuda: {torch.version.cuda}')\n",
    "print(f'torch.version: {torch.__version__}')\n",
    "print(f'cudnn.version: {torch.backends.cudnn.version()}')\n",
    "print(f'cudnn.enabled: {torch.backends.cudnn.enabled}')\n"
   ]
  },
  {
   "cell_type": "code",
   "execution_count": 3,
   "id": "83da4cac",
   "metadata": {},
   "outputs": [],
   "source": [
    "class ActorCritic(nn.Module):\n",
    "    def __init__(self, state_dim, action_dim, hidden_dim=64):\n",
    "        super(ActorCritic, self).__init__()\n",
    "        \n",
    "        # 共享特征提取层\n",
    "        self.shared_net = nn.Sequential(\n",
    "            nn.Linear(state_dim, hidden_dim),\n",
    "            nn.Tanh(),\n",
    "            nn.Linear(hidden_dim, hidden_dim),\n",
    "            nn.Tanh(),\n",
    "        )\n",
    "        \n",
    "        # 策略网络\n",
    "        self.actor = nn.Sequential(\n",
    "            nn.Linear(hidden_dim, action_dim),\n",
    "            nn.Softmax(dim=-1)\n",
    "        )\n",
    "        \n",
    "        # 价值网络\n",
    "        self.critic = nn.Linear(hidden_dim, 1)\n",
    "        \n",
    "    def forward(self, x):\n",
    "        features = self.shared_net(x)\n",
    "        action_probs = self.actor(features)\n",
    "        state_value = self.critic(features)\n",
    "        return action_probs, state_value"
   ]
  },
  {
   "cell_type": "markdown",
   "id": "c5345d0c",
   "metadata": {},
   "source": [
    "### 接着是PPO CLIP版本\n",
    "\n",
    "优化方法用的是 minibatch SGD"
   ]
  },
  {
   "cell_type": "code",
   "execution_count": 12,
   "id": "96e514e0",
   "metadata": {},
   "outputs": [
    {
     "name": "stdout",
     "output_type": "stream",
     "text": [
      "Episode 0, Average Reward: 15.00\n",
      "Episode 50, Average Reward: 28.34\n"
     ]
    },
    {
     "name": "stderr",
     "output_type": "stream",
     "text": [
      "/root/miniconda3/lib/python3.10/site-packages/torch/nn/modules/loss.py:616: UserWarning: Using a target size (torch.Size([1])) that is different to the input size (torch.Size([])). This will likely lead to incorrect results due to broadcasting. Please ensure they have the same size.\n",
      "  return F.mse_loss(input, target, reduction=self.reduction)\n"
     ]
    },
    {
     "name": "stdout",
     "output_type": "stream",
     "text": [
      "Episode 100, Average Reward: 29.28\n",
      "Episode 150, Average Reward: 42.76\n",
      "Episode 200, Average Reward: 62.28\n",
      "Episode 250, Average Reward: 70.20\n",
      "Episode 300, Average Reward: 82.04\n",
      "Episode 350, Average Reward: 87.30\n",
      "Episode 400, Average Reward: 77.70\n",
      "Episode 450, Average Reward: 82.20\n",
      "Episode 500, Average Reward: 97.20\n",
      "Episode 550, Average Reward: 93.32\n",
      "Episode 600, Average Reward: 121.86\n",
      "Episode 650, Average Reward: 115.92\n",
      "Episode 700, Average Reward: 119.52\n",
      "Episode 750, Average Reward: 122.98\n",
      "Episode 800, Average Reward: 139.30\n",
      "Episode 850, Average Reward: 159.18\n",
      "Episode 900, Average Reward: 179.96\n",
      "Episode 950, Average Reward: 105.50\n"
     ]
    }
   ],
   "source": [
    "class PPO_CLIP():\n",
    "    def __init__(self, state_dim, action_dim, lr=3e-4, gamma=0.99, gae_lambda=0.95, epsilon_clip=0.2, epochs=10, batch_size=64, T=1024, N=1, c_1=0.5, c_2=0.01):\n",
    "        '''\n",
    "        c_1: 价值函数损失的权重\n",
    "        c_2: 熵正则化的权重\n",
    "        '''\n",
    "        # 初始化policy和优化器\n",
    "        self.policy = ActorCritic(state_dim, action_dim).to(device)\n",
    "        self.optimizer = optim.Adam(self.policy.parameters(), lr=lr)\n",
    "        \n",
    "        # 算法超参数\n",
    "        self.gamma = gamma\n",
    "        self.gae_lambda = gae_lambda\n",
    "        self.epsilon_clip = epsilon_clip\n",
    "        self.lr = lr\n",
    "        self.epochs = epochs\n",
    "        self.batch_size = batch_size\n",
    "        self.T = T  \n",
    "        self.N = N\n",
    "        self.c_1 = c_1\n",
    "        self.c_2 = c_2\n",
    "        \n",
    "        # 存储器\n",
    "        self.states = []\n",
    "        self.actions = []\n",
    "        self.rewards = []\n",
    "        self.values = []\n",
    "        self.log_pi = []\n",
    "        self.dones = []\n",
    "        \n",
    "    def store_transition(self, state, action, reward, done, value, log_pi):\n",
    "        \"\"\"存储transition到缓冲区\"\"\"\n",
    "        self.states.append(state)\n",
    "        self.actions.append(action)\n",
    "        self.rewards.append(reward)\n",
    "        self.dones.append(done)\n",
    "        self.values.append(value)\n",
    "        self.log_pi.append(log_pi)\n",
    "        \n",
    "    def clear_buffer(self):\n",
    "        \"\"\"储存器清空\"\"\"\n",
    "        self.states = []\n",
    "        self.actions = []\n",
    "        self.rewards = []\n",
    "        self.dones = []\n",
    "        self.values = []\n",
    "        self.log_pi = []\n",
    "        \n",
    "    def get_action(self, state):\n",
    "        '''\n",
    "        根据当前policy返回动作等参数\n",
    "        '''\n",
    "        state = torch.FloatTensor(state).to(device).unsqueeze(0) # 保证state为张量\n",
    "        with torch.no_grad():  # 添加no_grad避免计算图积累\n",
    "            pi, state_value = self.policy(state) # 计算动作概率和状态价值，返回两个张量\n",
    "            action = pi.multinomial(1) # 这里用的是随机采样，后期可换为最优概率\n",
    "            log_prob = torch.log(pi[0, action.item()])\n",
    "        return action.item(), state_value.item(), log_prob.item()\n",
    "    \n",
    "    def get_A_and_return(self):\n",
    "        \"\"\"计算GAE优势函数和回报\"\"\"\n",
    "        A_ts = []\n",
    "        returns = []\n",
    "        gae = 0\n",
    "        \n",
    "        # 从后向前计算\n",
    "        for t in reversed(range(len(self.rewards))):\n",
    "            if t == len(self.rewards) - 1:\n",
    "                next_non_terminal = 1.0 - self.dones[t]\n",
    "                next_value = 0  # 终止状态的价值为0\n",
    "            else:\n",
    "                next_non_terminal = 1.0 - self.dones[t]\n",
    "                next_value = self.values[t + 1]\n",
    "            \n",
    "            delta = self.rewards[t] + self.gamma * next_value * next_non_terminal - self.values[t]\n",
    "            gae = delta + self.gamma * self.gae_lambda * next_non_terminal * gae\n",
    "            A_ts.insert(0, gae)\n",
    "            returns.insert(0, gae + self.values[t])\n",
    "        \n",
    "        advantages = torch.FloatTensor(A_ts).to(device)\n",
    "        returns = torch.FloatTensor(returns).to(device)\n",
    "        \n",
    "        # 标准化优势函数\n",
    "        advantages = (advantages - advantages.mean()) / (advantages.std() + 1e-8)\n",
    "        \n",
    "        return advantages, returns\n",
    "    \n",
    "    def update(self): # minibatch SGD 更新 theta\n",
    "        # 保证几个历史记录都为张量\n",
    "        states = torch.FloatTensor(self.states).to(device)\n",
    "        actions = torch.LongTensor(self.actions).to(device).unsqueeze(-1)\n",
    "        old_log_pi = torch.FloatTensor(self.log_pi).to(device).unsqueeze(-1)\n",
    "        \n",
    "        A_ts, returns = self.get_A_and_return() # 计算 advantage function\n",
    "        \n",
    "        for k in range(self.epochs):\n",
    "            indices = torch.randperm(len(states))\n",
    "            for start in range(0, len(states), self.batch_size):\n",
    "                end = start + self.batch_size\n",
    "                batch_idx = indices[start:end]\n",
    "                \n",
    "                batch_states = states[batch_idx] \n",
    "                batch_actions = actions[batch_idx]\n",
    "                batch_old_log_pi = old_log_pi[batch_idx]\n",
    "                batch_A_ts = A_ts[batch_idx]\n",
    "                batch_returns = returns[batch_idx]\n",
    "                \n",
    "                # 计算新的policy\n",
    "                pi, values = self.policy(batch_states)\n",
    "                distribution = Categorical(pi)\n",
    "                new_log_pi = distribution.log_prob(batch_actions.squeeze())\n",
    "                entropy = distribution.entropy().mean()\n",
    "                \n",
    "                # 计算 ratio\n",
    "                ratio = torch.exp(new_log_pi - batch_old_log_pi.squeeze()) # pi_theta / pi_theta_k\n",
    "                \n",
    "                # objective function\n",
    "                obj1 = ratio * batch_A_ts\n",
    "                obj2 = torch.clamp(ratio, 1.0 - self.epsilon_clip, 1.0 + self.epsilon_clip) * batch_A_ts\n",
    "                value_loss = nn.MSELoss()(values.squeeze(), batch_returns)\n",
    "                policy_loss = -torch.min(obj1, obj2).mean()\n",
    "                loss_function = policy_loss + self.c_1 * value_loss - self.c_2 * entropy\n",
    "                \n",
    "                # 反向传播\n",
    "                self.optimizer.zero_grad()\n",
    "                loss_function.backward()\n",
    "                torch.nn.utils.clip_grad_norm_(self.policy.parameters(), max_norm=0.5)  # 梯度裁剪\n",
    "                self.optimizer.step()\n",
    "\n",
    "def train():\n",
    "    \"根据论文里的伪代码实现PPO训练\"\n",
    "    env = gymnasium.make('CartPole-v1')\n",
    "    state_dim = env.observation_space.shape[0]\n",
    "    action_dim = env.action_space.n\n",
    "    \n",
    "    algorithm = PPO_CLIP(state_dim, action_dim)\n",
    "    episode_rewards = []\n",
    "    \n",
    "    for i in range(1000):  # 训练1000个回合\n",
    "        for actor in range(algorithm.N):\n",
    "            state, _ = env.reset()\n",
    "            episode_reward = 0\n",
    "            \n",
    "            for t in range(algorithm.T):\n",
    "                action, state_value, log_pi = algorithm.get_action(state)\n",
    "                next_state, reward, done, truncated, info = env.step(action)\n",
    "                episode_reward += reward\n",
    "                \n",
    "                # 数据存入储存器\n",
    "                algorithm.store_transition(state, action, reward, done or truncated, state_value, log_pi)\n",
    "                \n",
    "                state = next_state\n",
    "                \n",
    "                if done or truncated:\n",
    "                    break\n",
    "            episode_rewards.append(episode_reward)\n",
    "            \n",
    "        algorithm.update()  # 更新策略\n",
    "        algorithm.clear_buffer()  # 清空储存器\n",
    "        \n",
    "        # 打印训练进度\n",
    "        if i % 50 == 0:\n",
    "            avg_reward = np.mean(episode_rewards[-50:]) if len(episode_rewards) >= 50 else np.mean(episode_rewards)\n",
    "            print(f\"Episode {i}, Average Reward: {avg_reward:.2f}\")\n",
    "        \n",
    "    env.close()\n",
    "    return episode_rewards\n",
    "\n",
    "rewards = train()"
   ]
  },
  {
   "cell_type": "code",
   "execution_count": 18,
   "id": "73f0252b",
   "metadata": {},
   "outputs": [
    {
     "data": {
      "text/plain": [
       "Text(0.5, 1.0, 'PPO Training Rewards')"
      ]
     },
     "execution_count": 18,
     "metadata": {},
     "output_type": "execute_result"
    },
    {
     "data": {
      "image/png": "[encoded data removed]",
      "text/plain": [
       "<Figure size 640x480 with 1 Axes>"
      ]
     },
     "metadata": {},
     "output_type": "display_data"
    }
   ],
   "source": [
    "plt.plot(rewards)\n",
    "plt.xlabel('Episode')\n",
    "plt.ylabel('Reward')\n",
    "plt.title('PPO Training Rewards')"
   ]
  },
  {
   "cell_type": "code",
   "execution_count": null,
   "id": "6d2236da",
   "metadata": {},
   "outputs": [],
   "source": []
  }
 ],
 "metadata": {
  "kernelspec": {
   "display_name": "base",
   "language": "python",
   "name": "python3"
  },
  "language_info": {
   "codemirror_mode": {
    "name": "ipython",
    "version": 3
   },
   "file_extension": ".py",
   "mimetype": "text/x-python",
   "name": "python",
   "nbconvert_exporter": "python",
   "pygments_lexer": "ipython3",
   "version": "3.10.8"
  }
 },
 "nbformat": 4,
 "nbformat_minor": 5
}
